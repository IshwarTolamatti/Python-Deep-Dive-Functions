{
 "cells": [
  {
   "cell_type": "code",
   "execution_count": 1,
   "metadata": {},
   "outputs": [],
   "source": [
    "import numpy as np\n",
    "import pandas as pd\n",
    "import matplotlib.pyplot as plt\n",
    "import seaborn as sns\n",
    "%matplotlib inline"
   ]
  },
  {
   "cell_type": "code",
   "execution_count": 6,
   "metadata": {},
   "outputs": [],
   "source": [
    "#1"
   ]
  },
  {
   "cell_type": "code",
   "execution_count": 7,
   "metadata": {},
   "outputs": [
    {
     "name": "stdout",
     "output_type": "stream",
     "text": [
      " UP 5\n",
      " DOWN 3\n",
      " LEFT 3\n",
      " RIGHT 2\n",
      " \n",
      "2\n"
     ]
    }
   ],
   "source": [
    "pos = {\n",
    "    \"x\": 0, \n",
    "    \"y\": 0\n",
    "}\n",
    "\n",
    "while True:\n",
    "\n",
    "    line = input(\" \")\n",
    "    if not line:\n",
    "        break\n",
    "\n",
    "    direction, steps = line.split()\n",
    "    if direction == \"UP\":\n",
    "        pos[\"y\"] += int(steps)\n",
    "    elif direction == \"DOWN\":\n",
    "        pos[\"y\"] -= int(steps)\n",
    "    elif direction == \"LEFT\":\n",
    "        pos[\"x\"] -= int(steps)\n",
    "    elif direction == \"RIGHT\":\n",
    "        pos[\"x\"] += int(steps)\n",
    "c=((pos[\"x\"]**2) + (pos[\"y\"]**2))**0.5\n",
    "c=round(c)\n",
    "print (int(c))"
   ]
  },
  {
   "cell_type": "code",
   "execution_count": 10,
   "metadata": {},
   "outputs": [],
   "source": [
    "#2"
   ]
  },
  {
   "cell_type": "code",
   "execution_count": 9,
   "metadata": {},
   "outputs": [
    {
     "name": "stdout",
     "output_type": "stream",
     "text": [
      "Found\n"
     ]
    }
   ],
   "source": [
    "def search(list,n): \n",
    "  \n",
    "    for i in range(len(list)): \n",
    "        if list[i] == n: \n",
    "            return True\n",
    "    return False\n",
    "  \n",
    "# list which contains both string and numbers. \n",
    "list = [1, 2, 'sachin', 4,'Ishwar', 6] \n",
    "  \n",
    "# Driver Code \n",
    "n = 'Ishwar'\n",
    "  \n",
    "if search(list, n): \n",
    "    print(\"Found\") \n",
    "else: \n",
    "    print(\"Not Found\") "
   ]
  },
  {
   "cell_type": "code",
   "execution_count": 11,
   "metadata": {},
   "outputs": [],
   "source": [
    "#3"
   ]
  },
  {
   "cell_type": "code",
   "execution_count": 14,
   "metadata": {},
   "outputs": [
    {
     "name": "stdout",
     "output_type": "stream",
     "text": [
      "It is PM\n",
      "It is day-time\n"
     ]
    }
   ],
   "source": [
    "import time\n",
    "mytime = time.localtime()\n",
    "if mytime.tm_hour < 12:\n",
    "    print ('It is AM')\n",
    "else:\n",
    "    print ('It is PM')\n",
    "import time\n",
    "mytime = time.localtime()\n",
    "if mytime.tm_hour < 6 or mytime.tm_hour > 18:\n",
    "    print ('It is night-time')\n",
    "else:\n",
    "    print ('It is day-time')"
   ]
  },
  {
   "cell_type": "code",
   "execution_count": 15,
   "metadata": {},
   "outputs": [],
   "source": [
    "#4"
   ]
  },
  {
   "cell_type": "code",
   "execution_count": 30,
   "metadata": {},
   "outputs": [
    {
     "name": "stdout",
     "output_type": "stream",
     "text": [
      "Result 5447.055461466734\n",
      "Should be 278.546 km\n"
     ]
    }
   ],
   "source": [
    "from math import sin, cos, sqrt, atan2\n",
    "\n",
    "# approximate radius of earth in km\n",
    "R = 6373.0\n",
    "\n",
    "lat1 = 52.2296756\n",
    "lon1 = 21.0122287\n",
    "lat2 = 52.406374\n",
    "lon2 = 16.9251681\n",
    "\n",
    "dlon = lon2 - lon1\n",
    "dlat = lat2 - lat1\n",
    "a = (sin(dlat/2))**2 + cos(lat1) * cos(lat2) * (sin(dlon/2))**2\n",
    "c = 2 * atan2(sqrt(a), sqrt(1-a))\n",
    "distance = R * c\n",
    "\n",
    "print (\"Result\", distance)\n",
    "print (\"Should be\", 278.546, \"km\")"
   ]
  },
  {
   "cell_type": "code",
   "execution_count": 31,
   "metadata": {},
   "outputs": [],
   "source": [
    "#5"
   ]
  },
  {
   "cell_type": "code",
   "execution_count": 8,
   "metadata": {},
   "outputs": [
    {
     "name": "stdout",
     "output_type": "stream",
     "text": [
      "Welcome to XYZ Bank\n",
      "Choose from below options\n",
      "1. Cash withdrawal\n",
      "2. Cash credit\n",
      "3. Change password\n",
      "Enter your option:3\n",
      "Enter ATM or CARD PIN to proceed:123\n",
      "Please Enter Your Old Password:123\n",
      "***Thank You For Banking With Us***\n"
     ]
    }
   ],
   "source": [
    "def CashWithdrawal():\n",
    "    PIN=int(input('Enter ATM or CARD PIN to proceed:'))\n",
    "    if PIN==123:\n",
    "        print ('***Thank You For Banking With Us***')\n",
    "    else:\n",
    "        print ('You Have Enterd Invalid PIN. Try Again')\n",
    "def CashCredit():\n",
    "    PIN=int(input('Enter ATM or CARD PIN to proceed:'))\n",
    "    if PIN==123:\n",
    "        AMT=input('Enter Amount That You Wish to Credit To Bank:')\n",
    "        print ('***Thank You For Banking With Us***')\n",
    "    else:\n",
    "        print ('You Have Enterd Invalid PIN. Try Again')\n",
    "def ChangePassword():\n",
    "    PIN=int(input('Enter ATM or CARD PIN to proceed:'))\n",
    "    if PIN==123:\n",
    "        OLD_PWD=int(input('Please Enter Your Old Password:'))\n",
    "        print ('***Thank You For Banking With Us***')\n",
    "    else:\n",
    "        print ('You Have Enterd Invalid PIN. Try Again')\n",
    "def Main():\n",
    "    print ('Welcome to XYZ Bank\\nChoose from below options')\n",
    "    print ('1. Cash withdrawal\\n2. Cash credit\\n3. Change password')\n",
    "    \n",
    "    options=int(input('Enter your option:'))\n",
    "    \n",
    "    if options == 1:\n",
    "        CashWithdrawal()\n",
    "    if options == 2:\n",
    "        CashCredit()\n",
    "    if options == 3:\n",
    "        ChangePassword()\n",
    "    else:\n",
    "        print(\"Invalid Data\")\n",
    "        \n",
    "Main()"
   ]
  },
  {
   "cell_type": "code",
   "execution_count": 52,
   "metadata": {},
   "outputs": [],
   "source": [
    "#6"
   ]
  },
  {
   "cell_type": "code",
   "execution_count": 53,
   "metadata": {},
   "outputs": [
    {
     "name": "stdout",
     "output_type": "stream",
     "text": [
      "[2002, 2009, 2016, 2023, 2037, 2044, 2051, 2058, 2072, 2079, 2086, 2093, 2107, 2114, 2121, 2128, 2142, 2149, 2156, 2163, 2177, 2184, 2191, 2198, 2212, 2219, 2226, 2233, 2247, 2254, 2261, 2268, 2282, 2289, 2296, 2303, 2317, 2324, 2331, 2338, 2352, 2359, 2366, 2373, 2387, 2394, 2401, 2408, 2422, 2429, 2436, 2443, 2457, 2464, 2471, 2478, 2492, 2499, 2506, 2513, 2527, 2534, 2541, 2548, 2562, 2569, 2576, 2583, 2597, 2604, 2611, 2618, 2632, 2639, 2646, 2653, 2667, 2674, 2681, 2688, 2702, 2709, 2716, 2723, 2737, 2744, 2751, 2758, 2772, 2779, 2786, 2793, 2807, 2814, 2821, 2828, 2842, 2849, 2856, 2863, 2877, 2884, 2891, 2898, 2912, 2919, 2926, 2933, 2947, 2954, 2961, 2968, 2982, 2989, 2996, 3003, 3017, 3024, 3031, 3038, 3052, 3059, 3066, 3073, 3087, 3094, 3101, 3108, 3122, 3129, 3136, 3143, 3157, 3164, 3171, 3178, 3192, 3199]\n"
     ]
    }
   ],
   "source": [
    "a=[]\n",
    "for i in range(2000,3201):\n",
    "        if ((i%7==0) & ((i%5)!=0)):\n",
    "            a.append(i)\n",
    "print(a)"
   ]
  },
  {
   "cell_type": "code",
   "execution_count": 54,
   "metadata": {},
   "outputs": [],
   "source": [
    "#7"
   ]
  },
  {
   "cell_type": "code",
   "execution_count": 58,
   "metadata": {},
   "outputs": [
    {
     "name": "stdout",
     "output_type": "stream",
     "text": [
      "Enter a number: 8\n",
      "The factorial of 8 is 40320\n"
     ]
    }
   ],
   "source": [
    "def recur_factorial(n):  \n",
    "   if n == 1:  \n",
    "       return n  \n",
    "   else:  \n",
    "       return n*recur_factorial(n-1)  \n",
    "# take input from the user  \n",
    "num = int(input(\"Enter a number: \"))  \n",
    "# check is the number is negative  \n",
    "if num < 0:  \n",
    "   print(\"Sorry, factorial does not exist for negative numbers\")  \n",
    "elif num == 0:  \n",
    "   print(\"The factorial of 0 is 1\")  \n",
    "else:  \n",
    "   print(\"The factorial of\",num,\"is\",recur_factorial(num))  "
   ]
  },
  {
   "cell_type": "code",
   "execution_count": 57,
   "metadata": {},
   "outputs": [],
   "source": [
    "#8"
   ]
  },
  {
   "cell_type": "code",
   "execution_count": 74,
   "metadata": {},
   "outputs": [
    {
     "name": "stdout",
     "output_type": "stream",
     "text": [
      "100,150,180\n",
      "18,22,24\n"
     ]
    }
   ],
   "source": [
    "import math\n",
    "c=50\n",
    "h=30\n",
    "value = []\n",
    "items=[x for x in input().split(',')]\n",
    "for d in items:\n",
    "    value.append(str(int(round(math.sqrt(2*c*float(d)/h)))))\n",
    "\n",
    "print (','.join(value))"
   ]
  },
  {
   "cell_type": "code",
   "execution_count": 75,
   "metadata": {},
   "outputs": [],
   "source": [
    "#9"
   ]
  },
  {
   "cell_type": "code",
   "execution_count": 78,
   "metadata": {},
   "outputs": [
    {
     "name": "stdout",
     "output_type": "stream",
     "text": [
      "3,5\n",
      "[[0, 0, 0, 0, 0], [0, 1, 2, 3, 4], [0, 2, 4, 6, 8]]\n"
     ]
    }
   ],
   "source": [
    "input_str = input()\n",
    "dimensions=[int(x) for x in input_str.split(',')]\n",
    "rowNum=dimensions[0]\n",
    "colNum=dimensions[1]\n",
    "multilist = [[0 for col in range(colNum)] for row in range(rowNum)]\n",
    "for row in range(rowNum):\n",
    "    for col in range(colNum):\n",
    "        multilist[row][col]= row*col\n",
    "print (multilist)"
   ]
  },
  {
   "cell_type": "code",
   "execution_count": 97,
   "metadata": {},
   "outputs": [],
   "source": [
    "#10"
   ]
  },
  {
   "cell_type": "code",
   "execution_count": 4,
   "metadata": {},
   "outputs": [
    {
     "name": "stdout",
     "output_type": "stream",
     "text": [
      "without,hello,bag,world\n",
      "['without', 'hello', 'bag', 'world']\n",
      "['bag', 'hello', 'without', 'world']\n"
     ]
    }
   ],
   "source": [
    "items=[x for x in input().split(',')]\n",
    "print(items)\n",
    "items.sort()\n",
    "print(items)"
   ]
  },
  {
   "cell_type": "code",
   "execution_count": 5,
   "metadata": {},
   "outputs": [],
   "source": [
    "#11"
   ]
  },
  {
   "cell_type": "code",
   "execution_count": 11,
   "metadata": {},
   "outputs": [
    {
     "name": "stdout",
     "output_type": "stream",
     "text": [
      "Enter sequence of lines: \n",
      "> Hello world\n",
      "> Practice makes perfect\n",
      "> \n",
      "['HELLO WORLD', 'PRACTICE MAKES PERFECT']\n"
     ]
    }
   ],
   "source": [
    "from string import *\n",
    "\n",
    "lines = []\n",
    "print (\"Enter sequence of lines: \")\n",
    "\n",
    "while True:\n",
    "    line = input(\"> \")\n",
    "    if not line:\n",
    "        break\n",
    "    lines.append(line.upper())\n",
    "\n",
    "print (lines)"
   ]
  },
  {
   "cell_type": "code",
   "execution_count": 12,
   "metadata": {},
   "outputs": [],
   "source": [
    "#12"
   ]
  },
  {
   "cell_type": "code",
   "execution_count": 14,
   "metadata": {},
   "outputs": [
    {
     "name": "stdout",
     "output_type": "stream",
     "text": [
      "Enter sequence of words separated by whitespace: hello world and practice makes perfect and hello world again\n",
      "again and hello makes perfect practice world\n",
      "{'again', 'hello', 'perfect', 'makes', 'and', 'world', 'practice'}\n"
     ]
    }
   ],
   "source": [
    "words = input(\"Enter sequence of words separated by whitespace: \").split(' ')\n",
    "words_set = set(words)\n",
    "print (' '.join(sorted(words_set)))\n",
    "print (words_set)"
   ]
  },
  {
   "cell_type": "code",
   "execution_count": 15,
   "metadata": {},
   "outputs": [],
   "source": [
    "#13"
   ]
  },
  {
   "cell_type": "code",
   "execution_count": 24,
   "metadata": {},
   "outputs": [
    {
     "name": "stdout",
     "output_type": "stream",
     "text": [
      "2600,2600,2602,2602,2604,2604,2606,2606,2608,2608,2620,2620,2622,2622,2624,2624,2626,2626,2628,2628,2640,2640,2642,2642,2644,2644,2646,2646,2648,2648,2660,2660,2662,2662,2664,2664,2666,2666,2668,2668,2680,2680,2682,2682,2684,2684,2686,2686,2688,2688,2800,2800,2802,2802,2804,2804,2806,2806,2808,2808,2820,2820,2822,2822,2824,2824,2826,2826,2828,2828,2840,2840,2842,2842,2844,2844,2846,2846,2848,2848,2860,2860,2862,2862,2864,2864,2866,2866,2868,2868,2880,2880,2882,2882,2884,2884,2886,2886,2888,2888\n"
     ]
    }
   ],
   "source": [
    "values = []\n",
    "for i in range(2500, 3001):\n",
    "    s = str(i)\n",
    "    if (int(s[0])%2==0) and (int(s[1])%2==0) and (int(s[2])%2==0) and (int(s[3])%2==0):\n",
    "        values.append(s)\n",
    "    for digit in s:\n",
    "        if int(digit) % 2 != 0:\n",
    "            break\n",
    "    else:\n",
    "        values.append(s)\n",
    "\n",
    "print (\",\".join(values))"
   ]
  },
  {
   "cell_type": "code",
   "execution_count": 29,
   "metadata": {},
   "outputs": [],
   "source": [
    "#14"
   ]
  },
  {
   "cell_type": "code",
   "execution_count": 27,
   "metadata": {},
   "outputs": [
    {
     "name": "stdout",
     "output_type": "stream",
     "text": [
      "Hello world!\n",
      "Original String :  Hello world!\n",
      "UPPER CASE: 1\n",
      "LOWER CASE: 9\n"
     ]
    }
   ],
   "source": [
    "def string_test(s):\n",
    "    d={\"UPPER_CASE\":0, \"LOWER_CASE\":0}\n",
    "    for c in s:\n",
    "        if c.isupper():\n",
    "           d[\"UPPER_CASE\"]+=1\n",
    "        elif c.islower():\n",
    "           d[\"LOWER_CASE\"]+=1\n",
    "        else:\n",
    "           pass\n",
    "    print (\"Original String : \", s)\n",
    "    print (\"UPPER CASE:\", d[\"UPPER_CASE\"])\n",
    "    print (\"LOWER CASE:\", d[\"LOWER_CASE\"])\n",
    "\n",
    "str1=input(\"\")\n",
    "string_test(str1)"
   ]
  },
  {
   "cell_type": "code",
   "execution_count": 30,
   "metadata": {},
   "outputs": [],
   "source": [
    "#15"
   ]
  },
  {
   "cell_type": "code",
   "execution_count": 31,
   "metadata": {},
   "outputs": [
    {
     "name": "stdout",
     "output_type": "stream",
     "text": [
      "45.0\n",
      "11.0\n",
      "7.99\n"
     ]
    }
   ],
   "source": [
    "\n",
    "# Python code to demonstrate use   \n",
    "# of math.fsum() function \n",
    "  \n",
    "# fsum() is found in math library \n",
    "import math \n",
    "  \n",
    "# range(10) \n",
    "print(math.fsum(range(10))) \n",
    "  \n",
    "# Integer list \n",
    "arr = [1, 4, 6] \n",
    "print(math.fsum(arr)) \n",
    "  \n",
    "# Floating point list \n",
    "arr = [2.5, 2.4, 3.09] \n",
    "print(math.fsum(arr)) "
   ]
  },
  {
   "cell_type": "code",
   "execution_count": 32,
   "metadata": {},
   "outputs": [
    {
     "name": "stdout",
     "output_type": "stream",
     "text": [
      "4.5\n",
      "14.5\n"
     ]
    }
   ],
   "source": [
    "numbers = [2.5, 3, 4, -5]\n",
    "\n",
    "# start parameter is not provided\n",
    "numbersSum = sum(numbers)\n",
    "print(numbersSum)\n",
    "\n",
    "# start = 10\n",
    "numbersSum = sum(numbers, 10)\n",
    "print(numbersSum)"
   ]
  },
  {
   "cell_type": "code",
   "execution_count": null,
   "metadata": {},
   "outputs": [],
   "source": []
  }
 ],
 "metadata": {
  "kernelspec": {
   "display_name": "Python 3",
   "language": "python",
   "name": "python3"
  },
  "language_info": {
   "codemirror_mode": {
    "name": "ipython",
    "version": 3
   },
   "file_extension": ".py",
   "mimetype": "text/x-python",
   "name": "python",
   "nbconvert_exporter": "python",
   "pygments_lexer": "ipython3",
   "version": "3.7.3"
  }
 },
 "nbformat": 4,
 "nbformat_minor": 2
}
